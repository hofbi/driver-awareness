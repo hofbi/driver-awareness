{
 "cells": [
  {
   "cell_type": "code",
   "execution_count": null,
   "metadata": {},
   "outputs": [],
   "source": [
    "import matplotlib.pyplot as plt\n",
    "import pandas as pd\n",
    "from pathlib import Path\n",
    "import os\n",
    "import numpy as np\n",
    "import tikzplotlib"
   ]
  },
  {
   "cell_type": "code",
   "execution_count": null,
   "metadata": {
    "tags": []
   },
   "outputs": [],
   "source": [
    "FILES = [Path(\"data\").joinpath(file_name) for file_name in os.listdir(\"data\") if file_name.endswith(\".csv\")]\n",
    "FILE = Path(\"data\").joinpath(\"sa_turn_with_three_users.csv\")"
   ]
  },
  {
   "cell_type": "code",
   "execution_count": null,
   "metadata": {},
   "outputs": [],
   "source": [
    "df = pd.read_csv(FILE)\n",
    "\n",
    "# TODO replace with timestamp once available\n",
    "df[\"time\"] = df.index * 0.1"
   ]
  },
  {
   "cell_type": "code",
   "execution_count": null,
   "metadata": {
    "tags": []
   },
   "outputs": [],
   "source": [
    "# Plot actual and optimal SA for single value\n",
    "actual = df[\"actual_sa_mean\"]\n",
    "sigma = df[\"actual_sa_sigma\"]\n",
    "act_high = actual + sigma\n",
    "act_low = actual - sigma\n",
    "\n",
    "plt.plot(df[\"time\"], df[\"optimal_sa\"], label=\"SA_opt\")\n",
    "plt.plot(df[\"time\"], actual, label=\"SA_act\")\n",
    "plt.fill_between(df[\"time\"], act_high, act_low, facecolor='yellow', alpha=0.5)\n",
    "\n",
    "plt.legend()\n",
    "plt.xlabel(\"Time [s]\")\n",
    "plt.ylabel(\"SA [1]\")\n",
    "plt.title(\"SA for a turn with 3 users\")\n",
    "\n",
    "tikzplotlib.save(\"sa_measure.tex\")\n",
    "plt.show()"
   ]
  },
  {
   "cell_type": "code",
   "execution_count": null,
   "metadata": {},
   "outputs": [],
   "source": [
    "# Plot actual and optimal SA for all values\n",
    "actual_headers = df.filter(regex='actual_sa_\\d').columns\n",
    "\n",
    "plt.figure(\"SA for a turn with 3 users\", figsize=[24,3])\n",
    "for index, name in enumerate(actual_headers):\n",
    "    plt.subplot(f\"15{index+1}\")\n",
    "    plt.plot(df[\"time\"], df[\"optimal_sa\"], label=\"SA_opt\")\n",
    "    plt.plot(df[\"time\"], df[name])\n",
    "    plt.legend()\n",
    "    plt.xlabel(\"Time [s]\")\n",
    "    plt.ylabel(\"SA [1]\")\n",
    "    plt.title(f\"User {index+1}\")\n",
    "\n",
    "tikzplotlib.save(\"sa_measure_all.tex\")\n",
    "plt.show()"
   ]
  },
  {
   "cell_type": "code",
   "execution_count": null,
   "metadata": {
    "tags": []
   },
   "outputs": [],
   "source": [
    "# Plot SA ratio\n",
    "ratio = df[\"sa_mean\"]\n",
    "ratio_sigma = df[\"sa_sigma\"]\n",
    "ratio_high = ratio + ratio_sigma\n",
    "ratio_low = ratio - ratio_sigma\n",
    "\n",
    "plt.plot(df[\"time\"], ratio)\n",
    "plt.fill_between(df[\"time\"], ratio_high, ratio_low, facecolor='yellow', alpha=0.5)\n",
    "\n",
    "plt.legend()\n",
    "plt.xlabel(\"Time [s]\")\n",
    "plt.ylabel(\"SA [1]\")\n",
    "plt.title(\"SA ratio for a turn with 3 users\")\n",
    "\n",
    "tikzplotlib.save(\"sa_ratio.tex\")\n",
    "plt.show()"
   ]
  },
  {
   "cell_type": "code",
   "execution_count": null,
   "metadata": {
    "tags": []
   },
   "outputs": [],
   "source": [
    "# Evaluate variance for all files\n",
    "print(\"Scenario & $\\overline{SA}$ & $\\sigma SA$ & $\\max(\\sigma SA$) & $\\overline{SA_{opt}}$ & $\\overline{SA_{act}}$ & $\\sigma SA_{act}$ & $\\max(\\sigma SA_{act}$)\")\n",
    "for file_name in FILES:\n",
    "    df = pd.read_csv(file_name)\n",
    "    print(f\"{file_name.stem} & {df['sa_mean'].mean():.2f} & {df['sa_sigma'].mean():.2f} & {df['sa_sigma'].max():.2f} & {df['optimal_sa'].max():.2f} & {df['actual_sa_mean'].max():.2f} & {df['actual_sa_sigma'].mean():.2f} & {df['actual_sa_sigma'].max():.2f}\")"
   ]
  }
 ],
 "metadata": {
  "kernelspec": {
   "display_name": "Python 3.6.9 64-bit ('venv': venv)",
   "language": "python",
   "name": "python_defaultSpec_1594285529281"
  },
  "language_info": {
   "codemirror_mode": {
    "name": "ipython",
    "version": 2
   },
   "file_extension": ".py",
   "mimetype": "text/x-python",
   "name": "python",
   "nbconvert_exporter": "python",
   "pygments_lexer": "ipython2",
   "version": "3.6.9-final"
  }
 },
 "nbformat": 4,
 "nbformat_minor": 4
}
